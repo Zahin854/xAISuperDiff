{
 "cells": [
  {
   "cell_type": "code",
   "execution_count": 29,
   "id": "458a4186",
   "metadata": {},
   "outputs": [
    {
     "name": "stdout",
     "output_type": "stream",
     "text": [
      "CPU times: total: 0 ns\n",
      "Wall time: 0 ns\n"
     ]
    }
   ],
   "source": [
    "%%time\n",
    "# Imports:\n",
    "\n",
    "# defaults\n",
    "import math\n",
    "import numpy as np\n",
    "import matplotlib.pyplot as plt\n",
    "import csv\n",
    "\n",
    "# torch stuff\n",
    "import torch\n",
    "import torch.nn as nn\n",
    "from torch.optim import Adam, NAdam\n",
    "from torch.utils.data import TensorDataset, DataLoader\n",
    "\n",
    "# UNet dependencies\n",
    "from denoising_diffusion_pytorch import Unet1D # fancy unet\n",
    "# from functools import partial\n",
    "# from einops import rearrange, reduce\n",
    "# from einops.layers.torch import Rearrange\n",
    "\n",
    "# Smact check dependencies\n",
    "import smact\n",
    "from smact.screening import pauling_test\n",
    "import pandas\n",
    "import itertools\n",
    "from fractions import Fraction\n",
    "import functools\n",
    "from pymatgen.core.composition import Composition\n",
    "\n",
    "# Typenotes\n",
    "from typing import Tuple\n",
    "from typing import List\n",
    "\n",
    "# file import\n",
    "from helper_formula_parse import *\n",
    "from supercon_wtypes_parse import *\n",
    "from helper_dataset_shuffle import *\n",
    "from dataset_creation import *\n",
    "from helper_reverse_formula import *\n",
    "# from helper_unet_functions import *\n",
    "from smact_validity_checks import *\n",
    "from save_valid_compounds_to_csv import *"
   ]
  },
  {
   "cell_type": "code",
   "execution_count": 30,
   "id": "0b53e9b9",
   "metadata": {},
   "outputs": [],
   "source": [
    "import torch\n",
    "import torchvision\n",
    "import torchvision.transforms as T\n",
    "from PIL import Image"
   ]
  },
  {
   "cell_type": "code",
   "execution_count": 31,
   "id": "83538ef8",
   "metadata": {},
   "outputs": [],
   "source": [
    "element_table = [\"H\",\"He\",\"Li\",\"Be\",\"B\",\"C\",\"N\",\"O\",\"F\",\"Ne\",\"Na\",\"Mg\",\"Al\",\"Si\",\"P\",\"S\",\"Cl\",\"Ar\",\"K\",\"Ca\",\"Sc\",\"Ti\",\"V\",\"Cr\",\"Mn\",\"Fe\",\"Co\",\n",
    "              \"Ni\",\"Cu\",\"Zn\",\"Ga\",\"Ge\",\"As\",\"Se\",\"Br\",\"Kr\",\"Rb\",\"Sr\",\"Y\",\"Zr\",\"Nb\",\"Mo\",\"Tc\",\"Ru\",\"Rh\",\"Pd\",\"Ag\",\"Cd\",\"In\",\"Sn\",\"Sb\",\"Te\",\n",
    "              \"I\",\"Xe\",\"Cs\",\"Ba\",\"La\",\"Ce\",\"Pr\",\"Nd\",\"Pm\",\"Sm\",\"Eu\",\"Gd\",\"Tb\",\"Dy\",\"Ho\",\"Er\",\"Tm\",\"Yb\",\"Lu\",\"Hf\",\"Ta\",\"W\",\"Re\",\"Os\",\"Ir\",\n",
    "              \"Pt\",\"Au\",\"Hg\",\"Tl\",\"Pb\",\"Bi\",\"Po\",\"At\",\"Rn\",\"Fr\",\"Ra\",\"Ac\",\"Th\",\"Pa\",\"U\",\"Np\",\"Pu\",\"Am\",\"Cm\"]"
   ]
  },
  {
   "cell_type": "code",
   "execution_count": 32,
   "id": "17254e8e",
   "metadata": {},
   "outputs": [
    {
     "name": "stdout",
     "output_type": "stream",
     "text": [
      "tensor([0., 0., 0., 0., 0., 0., 0., 0., 0., 0., 0., 0., 0., 0., 0., 0., 0., 0., 0., 0., 0., 0., 0., 0.,\n",
      "        0., 0., 0., 0., 0., 0., 0., 0., 0., 0., 0., 0., 0., 0., 0., 0., 0., 0., 0., 0., 0., 0., 0., 0.,\n",
      "        0., 0., 0., 0., 0., 0., 0., 0., 0., 0., 0., 0., 0., 0., 0., 0., 0., 0., 0., 0., 0., 0., 0., 0.,\n",
      "        0., 0., 0., 0., 0., 0., 0., 0., 0., 0., 0., 0., 0., 0., 0., 0., 0., 0., 0., 0., 0., 0., 0., 0.])\n"
     ]
    }
   ],
   "source": [
    "x0 = torch.zeros(96)\n",
    "print(x0)"
   ]
  },
  {
   "cell_type": "code",
   "execution_count": 33,
   "id": "c7c58c31",
   "metadata": {},
   "outputs": [],
   "source": [
    "# Y1Ba2Cu3O4.86"
   ]
  },
  {
   "cell_type": "code",
   "execution_count": 64,
   "id": "fac4eaa4",
   "metadata": {},
   "outputs": [],
   "source": [
    "nickelate_set = [\"Nd0.8Sr0.2Ni1O2\"]\n",
    "nickelate_set_1 = split_sc_to_vector(merge_sc_char(split_scform_to_char(nickelate_set[0])), element_table)\n",
    "# nickelate_set_2 = split_sc_to_vector(merge_sc_char(split_scform_to_char(nickelate_set[1])), element_table)\n",
    "nickelate_set_1 = torch.from_numpy(nickelate_set_1)\n",
    "x0 = nickelate_set_1"
   ]
  },
  {
   "cell_type": "code",
   "execution_count": 74,
   "id": "7bf9d3cb",
   "metadata": {},
   "outputs": [],
   "source": [
    "nickelate_set = [\"O2.02Co0.48Ni0.44Sr0.21Nd0.84\"]\n",
    "nickelate_set_1 = split_sc_to_vector(merge_sc_char(split_scform_to_char(nickelate_set[0])), element_table)\n",
    "# nickelate_set_2 = split_sc_to_vector(merge_sc_char(split_scform_to_char(nickelate_set[1])), element_table)\n",
    "nickelate_set_1 = torch.from_numpy(nickelate_set_1)\n",
    "x0 = nickelate_set_1"
   ]
  },
  {
   "cell_type": "code",
   "execution_count": 129,
   "id": "1c2748d3",
   "metadata": {},
   "outputs": [],
   "source": [
    "nickelate_set = [\"Y1.0Ba1.4Sr0.6Cu3O6Se0.51\"]\n",
    "nickelate_set_1 = split_sc_to_vector(merge_sc_char(split_scform_to_char(nickelate_set[0])), element_table)\n",
    "# nickelate_set_2 = split_sc_to_vector(merge_sc_char(split_scform_to_char(nickelate_set[1])), element_table)\n",
    "nickelate_set_1 = torch.from_numpy(nickelate_set_1)\n",
    "x0 = nickelate_set_1"
   ]
  },
  {
   "cell_type": "code",
   "execution_count": 130,
   "id": "70453ef0",
   "metadata": {},
   "outputs": [
    {
     "name": "stdout",
     "output_type": "stream",
     "text": [
      "tensor([0.0000, 0.0000, 0.0000, 0.0000, 0.0000, 0.0000, 0.0000, 6.0000, 0.0000,\n",
      "        0.0000, 0.0000, 0.0000, 0.0000, 0.0000, 0.0000, 0.0000, 0.0000, 0.0000,\n",
      "        0.0000, 0.0000, 0.0000, 0.0000, 0.0000, 0.0000, 0.0000, 0.0000, 0.0000,\n",
      "        0.0000, 3.0000, 0.0000, 0.0000, 0.0000, 0.0000, 0.5100, 0.0000, 0.0000,\n",
      "        0.0000, 0.6000, 1.0000, 0.0000, 0.0000, 0.0000, 0.0000, 0.0000, 0.0000,\n",
      "        0.0000, 0.0000, 0.0000, 0.0000, 0.0000, 0.0000, 0.0000, 0.0000, 0.0000,\n",
      "        0.0000, 1.4000, 0.0000, 0.0000, 0.0000, 0.0000, 0.0000, 0.0000, 0.0000,\n",
      "        0.0000, 0.0000, 0.0000, 0.0000, 0.0000, 0.0000, 0.0000, 0.0000, 0.0000,\n",
      "        0.0000, 0.0000, 0.0000, 0.0000, 0.0000, 0.0000, 0.0000, 0.0000, 0.0000,\n",
      "        0.0000, 0.0000, 0.0000, 0.0000, 0.0000, 0.0000, 0.0000, 0.0000, 0.0000,\n",
      "        0.0000, 0.0000, 0.0000, 0.0000, 0.0000, 0.0000], dtype=torch.float64)\n"
     ]
    }
   ],
   "source": [
    "print(x0)"
   ]
  },
  {
   "cell_type": "code",
   "execution_count": 131,
   "id": "39859ced",
   "metadata": {},
   "outputs": [
    {
     "name": "stdout",
     "output_type": "stream",
     "text": [
      "O6.0Cu3.0Se0.51Sr0.6Y1.0Ba1.4\n"
     ]
    }
   ],
   "source": [
    "chemForm = cform_from_vector(x0, element_table)\n",
    "print(chemForm)"
   ]
  },
  {
   "cell_type": "code",
   "execution_count": 132,
   "id": "c6b5f049",
   "metadata": {},
   "outputs": [],
   "source": [
    "x0trial = x0.unsqueeze(0)"
   ]
  },
  {
   "cell_type": "code",
   "execution_count": 133,
   "id": "e4b63423",
   "metadata": {},
   "outputs": [],
   "source": [
    "# Hg1Ba2Ca2Cu3O8.27\n",
    "# Hg1.0Ba2.0Ca2.0Cu3.0O8.27"
   ]
  },
  {
   "cell_type": "code",
   "execution_count": 124,
   "id": "ffdcb999",
   "metadata": {},
   "outputs": [
    {
     "name": "stdout",
     "output_type": "stream",
     "text": [
      "NOTE: Using Device: \"cuda:0\" | NVIDIA GeForce RTX 3060 Ti\n"
     ]
    }
   ],
   "source": [
    "device = torch.device('cuda:0' if torch.cuda.is_available() else 'cpu')\n",
    "print(f\"NOTE: Using Device: \\\"{device}\\\"\",\"|\",(f\"{torch.cuda.get_device_name(0)}\" if torch.cuda.is_available() else \"CPU\"))"
   ]
  },
  {
   "cell_type": "code",
   "execution_count": 41,
   "id": "b429a9ea",
   "metadata": {},
   "outputs": [],
   "source": [
    "def get_named_beta_schedule(schedule_name: str, num_diffusion_timesteps: int) -> torch.Tensor:\n",
    "    \"\"\"\n",
    "    Get a pre-defined beta schedule for the given name.\n",
    "\n",
    "    :param schedule_name: The name of the beta schedule.\n",
    "    :param num_diffusion_timesteps: The number of diffusion timesteps.\n",
    "    :return: The beta schedule tensor.\n",
    "    :rtype: torch.Tensor[torch.float64]\n",
    "    \"\"\"\n",
    "    if schedule_name == \"linear\":\n",
    "        # Linear schedule from Ho et al, extended to work for any number of diffusion steps.\n",
    "        scale = 1000 / num_diffusion_timesteps\n",
    "        beta_start = scale * 0.0001\n",
    "        beta_end = scale * 0.02\n",
    "        return torch.linspace(\n",
    "            beta_start, beta_end, num_diffusion_timesteps\n",
    "        ).to(torch.float64)\n",
    "    elif schedule_name == \"cosine\":\n",
    "        return betas_for_alpha_bar(\n",
    "            num_diffusion_timesteps,\n",
    "            lambda t: math.cos((t + 0.008) / 1.008 * math.pi / 2) ** 2,\n",
    "        )\n",
    "    else:\n",
    "        raise NotImplementedError(f\"unknown beta schedule: {schedule_name}\")\n"
   ]
  },
  {
   "cell_type": "code",
   "execution_count": 42,
   "id": "aa4f89b8",
   "metadata": {},
   "outputs": [],
   "source": [
    "def betas_for_alpha_bar(num_diffusion_timesteps: int, alpha_bar: float, max_beta=0.999) -> torch.Tensor:\n",
    "    \"\"\"\n",
    "    Create a beta schedule that discretizes the given alpha_t_bar function,\n",
    "    which defines the cumprod of (1-beta) over time from t = [0,1].\n",
    "\n",
    "    :param num_diffusion_timesteps: The number of betas to produce.\n",
    "    :param alpha_bar: A lambda that takes an argument t from 0 to 1 and produces\n",
    "                      the cumulative product of (1-beta) up to that part of the\n",
    "                      diffusion process.\n",
    "    :param max_beta: The maximum beta to use; use values lower than 1 to prevent\n",
    "                     singularities (Improved Diffusion Paper).\n",
    "    :return: The beta schedule tensor.\n",
    "    :rtype: torch.Tensor[torch.float64]\n",
    "    \"\"\"\n",
    "    betas = []\n",
    "    for i in range(num_diffusion_timesteps):\n",
    "        t1 = i / num_diffusion_timesteps\n",
    "        t2 = (i + 1) / num_diffusion_timesteps\n",
    "        betas.append(min(1 - alpha_bar(t2) / alpha_bar(t1), max_beta))\n",
    "    return torch.Tensor(betas).to(torch.float64)"
   ]
  },
  {
   "cell_type": "code",
   "execution_count": 43,
   "id": "0385ba90",
   "metadata": {},
   "outputs": [],
   "source": [
    "class GaussianDiffusion1D:\n",
    "    \"\"\"\n",
    "    Class for Gaussian diffusion of 1D Tensors (vector diffusion).\n",
    "    \"\"\"\n",
    "\n",
    "    def __init__(\n",
    "        self,\n",
    "        sequence_length: int,\n",
    "        timesteps: int,\n",
    "        beta_schedule_type: str\n",
    "    ):\n",
    "        \"\"\"\n",
    "        Initializes the GaussianDiffusion1D class.\n",
    "\n",
    "        :param sequence_length: Length of the sequence.\n",
    "        :param timesteps: Number of timesteps.\n",
    "        :param beta_schedule_type: Type of beta schedule. Can be \"linear\" or \"cosine\".\n",
    "\n",
    "        :raises TypeError: If the beta schedule type is unknown.\n",
    "        \"\"\"\n",
    "        self.sequence_length = sequence_length\n",
    "        self.timesteps = timesteps\n",
    "        self.beta_schedule_type = beta_schedule_type\n",
    "\n",
    "        if self.beta_schedule_type == \"linear\":\n",
    "            self.betas = get_named_beta_schedule(self.beta_schedule_type, self.timesteps)\n",
    "        elif self.beta_schedule_type == \"cosine\":\n",
    "            self.betas = get_named_beta_schedule(self.beta_schedule_type, self.timesteps)\n",
    "        else:\n",
    "            raise TypeError(f\"{self.beta_schedule_type} is an unknown beta schedule type.\")\n",
    "\n",
    "        self.alphas = 1 - self.betas\n",
    "        self.alphas_bar = torch.cumprod(self.alphas, axis=0)\n",
    "\n",
    "    def forward(\n",
    "        self,\n",
    "        x_0: torch.Tensor,\n",
    "        t: torch.Tensor,\n",
    "        device: str\n",
    "    ) -> Tuple[torch.Tensor, torch.Tensor]:\n",
    "        \"\"\"\n",
    "        Forward diffusion process. Adding noise ~ N(0, I) to vectors.\n",
    "\n",
    "        :param x_0: Original vector of shape (B, C, L).\n",
    "        :param t: Timestep tensor of shape (B,).\n",
    "        :param device: Device to be used.\n",
    "\n",
    "        :return: Tuple containing mean tensor and noise tensor.\n",
    "        \"\"\"\n",
    "        epsilon = torch.randn_like(x_0)\n",
    "        alphas_bar_t = self.extract(self.alphas_bar, t, x_0.shape)\n",
    "\n",
    "        mean = torch.sqrt(alphas_bar_t).to(device) * x_0.to(device)\n",
    "        variance = torch.sqrt((1 - alphas_bar_t)).to(device) * epsilon.to(device)\n",
    "\n",
    "        return mean + variance, epsilon.to(device)\n",
    "\n",
    "    @torch.no_grad()\n",
    "    def backward(\n",
    "        self,\n",
    "        x_t: torch.Tensor,\n",
    "        t: torch.Tensor,\n",
    "        model: nn.Module,\n",
    "        **kwargs\n",
    "    ) -> torch.Tensor:\n",
    "        \"\"\"\n",
    "        Calls the model to predict the noise in the image and returns\n",
    "        the denoised image (x_{t-1}).\n",
    "\n",
    "        This method corresponds to the \"big for loop\" in the sampling algorithm (see algorithm 2 from Ho et al.).\n",
    "\n",
    "        :param x_t: Current image tensor of shape (B, C, L).\n",
    "        :param t: Timestep tensor of shape (B,).\n",
    "        :param model: Model used to predict the noise in the image.\n",
    "        :param **kwargs: Additional arguments to be passed to the model.\n",
    "\n",
    "        :return: Denoised image tensor of shape (B, C, L).\n",
    "        \"\"\"\n",
    "        betas_t = self.extract(self.betas, t, x_t.shape)\n",
    "        sqrt_one_minus_alphas_bar_t = self.extract(torch.sqrt(1. - self.alphas_bar), t, x_t.shape)\n",
    "        sqrt_recip_alphas_t = self.extract(torch.sqrt(1.0 / self.alphas), t, x_t.shape)\n",
    "        mean = sqrt_recip_alphas_t * (x_t - ((betas_t / sqrt_one_minus_alphas_bar_t) * model(x_t, t, **kwargs)))\n",
    "        posterior_variance_t = betas_t\n",
    "\n",
    "        # Applies noise to this image if we are not in the last step yet.\n",
    "        if t == 0:\n",
    "            return mean\n",
    "        else:\n",
    "            z = torch.randn_like(x_t)\n",
    "            variance = torch.sqrt(posterior_variance_t) * z\n",
    "            return mean + variance\n",
    "\n",
    "    @staticmethod\n",
    "    def extract(\n",
    "        values: torch.Tensor,\n",
    "        t: torch.Tensor,\n",
    "        x_0_shape: Tuple[int]\n",
    "    ) -> torch.Tensor:\n",
    "        \"\"\"\n",
    "        Picks the values from `values` according to the indices stored in `t`.\n",
    "\n",
    "        :param values: Tensor of values to pick from.\n",
    "        :param t: Index tensor.\n",
    "        :param x_0_shape: Shape of the original tensor x_0.\n",
    "\n",
    "        :return: Reshaped tensor with picked values.\n",
    "        \"\"\"\n",
    "        batch_size = t.shape[0]\n",
    "        vector_to_reshape = values.gather(-1, t.cpu())\n",
    "        \"\"\"\n",
    "        if len(x_shape) - 1 = 2:\n",
    "        reshape `out` to dims\n",
    "        (batch_size, 1, 1)\n",
    "        \"\"\"\n",
    "        return vector_to_reshape.reshape(batch_size, *((1,) * (len(x_0_shape) - 1))).to(t.device)\n"
   ]
  },
  {
   "cell_type": "code",
   "execution_count": 44,
   "id": "84f08dfa",
   "metadata": {},
   "outputs": [],
   "source": [
    "DIFFUSION_TIMESTEPS = 1000\n",
    "diffusion_model = GaussianDiffusion1D(96, DIFFUSION_TIMESTEPS, \"cosine\")"
   ]
  },
  {
   "cell_type": "code",
   "execution_count": 15,
   "id": "c6c276f0",
   "metadata": {},
   "outputs": [],
   "source": [
    "t = torch.randint(0, diffusion_model.timesteps, (1,)).long().to(device)"
   ]
  },
  {
   "cell_type": "code",
   "execution_count": 16,
   "id": "bfd2f088",
   "metadata": {},
   "outputs": [
    {
     "name": "stdout",
     "output_type": "stream",
     "text": [
      "tensor([887], device='cuda:0')\n"
     ]
    }
   ],
   "source": [
    "print(t)"
   ]
  },
  {
   "cell_type": "code",
   "execution_count": 22,
   "id": "6cfa723d",
   "metadata": {},
   "outputs": [],
   "source": [
    "bigt = torch.tensor([999]).to(device)"
   ]
  },
  {
   "cell_type": "code",
   "execution_count": 23,
   "id": "3ebf3fa5",
   "metadata": {},
   "outputs": [
    {
     "name": "stdout",
     "output_type": "stream",
     "text": [
      "tensor([999], device='cuda:0')\n"
     ]
    }
   ],
   "source": [
    "print(bigt)"
   ]
  },
  {
   "cell_type": "code",
   "execution_count": 25,
   "id": "056e03f1",
   "metadata": {},
   "outputs": [],
   "source": [
    "xbigt, gt_noise_train = diffusion_model.forward(x0trial, bigt, device)"
   ]
  },
  {
   "cell_type": "code",
   "execution_count": 63,
   "id": "f18fc9c2",
   "metadata": {},
   "outputs": [
    {
     "name": "stdout",
     "output_type": "stream",
     "text": [
      "tensor([[ 1.4125,  0.4254, -0.3321, -0.4543, -1.0107, -0.7462, -0.5909, -0.5542,\n",
      "         -0.9048,  0.2819,  0.8972,  0.9246,  0.1902, -0.6822, -1.5335,  0.1671,\n",
      "          0.1477, -0.4120,  0.2089,  1.5446, -0.0437,  0.2548,  0.4323, -0.4198,\n",
      "         -2.6162,  0.0436, -0.4447, -0.9457,  1.2047,  0.0433,  0.0663,  1.8495,\n",
      "         -1.2361, -1.9972,  1.0014, -0.0628, -0.2693, -0.7334,  0.1604, -0.4740,\n",
      "          0.1255, -0.0597, -0.2210,  1.5915, -1.7344, -0.3172, -0.3839, -0.1158,\n",
      "         -1.1414, -1.0295, -0.3648, -3.1781,  0.8321,  0.1174, -0.5670,  1.7403,\n",
      "         -0.4128,  0.3326,  0.8709,  0.0912,  0.1017,  0.8176, -1.2865, -1.7935,\n",
      "         -3.2112,  0.8574,  0.1624,  2.1155, -0.5467, -0.2454,  1.1206, -0.4124,\n",
      "          0.4416, -1.2076, -1.6670,  0.1184, -0.4133, -0.6520, -1.3195,  0.4920,\n",
      "          0.6739,  0.1381,  1.5237, -1.9199, -1.9935, -1.8925, -0.5086, -1.4834,\n",
      "          0.8196, -0.8857, -0.0174, -1.8875,  1.3567,  2.6433, -0.6231,  0.6881]],\n",
      "       device='cuda:0', dtype=torch.float64)\n"
     ]
    }
   ],
   "source": [
    "print(xbigt)"
   ]
  },
  {
   "cell_type": "code",
   "execution_count": 72,
   "id": "025b52b1",
   "metadata": {},
   "outputs": [
    {
     "name": "stdout",
     "output_type": "stream",
     "text": [
      "NOTE: Correct element table length.\n",
      "NOTE: Valid table.\n"
     ]
    }
   ],
   "source": [
    "SUPERCON_DATA_FILE = \"SuperCon_with_types.dat\"\n",
    "\n",
    "# element table to set up vectors in R^(1x96): must len(element_table) = 96\n",
    "element_table = [\"H\",\"He\",\"Li\",\"Be\",\"B\",\"C\",\"N\",\"O\",\"F\",\"Ne\",\"Na\",\"Mg\",\"Al\",\"Si\",\"P\",\"S\",\"Cl\",\"Ar\",\"K\",\"Ca\",\"Sc\",\"Ti\",\"V\",\"Cr\",\"Mn\",\"Fe\",\"Co\",\n",
    "              \"Ni\",\"Cu\",\"Zn\",\"Ga\",\"Ge\",\"As\",\"Se\",\"Br\",\"Kr\",\"Rb\",\"Sr\",\"Y\",\"Zr\",\"Nb\",\"Mo\",\"Tc\",\"Ru\",\"Rh\",\"Pd\",\"Ag\",\"Cd\",\"In\",\"Sn\",\"Sb\",\"Te\",\n",
    "              \"I\",\"Xe\",\"Cs\",\"Ba\",\"La\",\"Ce\",\"Pr\",\"Nd\",\"Pm\",\"Sm\",\"Eu\",\"Gd\",\"Tb\",\"Dy\",\"Ho\",\"Er\",\"Tm\",\"Yb\",\"Lu\",\"Hf\",\"Ta\",\"W\",\"Re\",\"Os\",\"Ir\",\n",
    "              \"Pt\",\"Au\",\"Hg\",\"Tl\",\"Pb\",\"Bi\",\"Po\",\"At\",\"Rn\",\"Fr\",\"Ra\",\"Ac\",\"Th\",\"Pa\",\"U\",\"Np\",\"Pu\",\"Am\",\"Cm\"]\n",
    "\n",
    "# validate table correctness\n",
    "validation_element_table = [\"H\", \"He\", \"Li\", \"Be\", \"B\", \"C\", \"N\", \"O\", \"F\", \"Ne\", \"Na\", \"Mg\", \"Al\", \"Si\", \"P\", \"S\", \"Cl\", \"Ar\", \"K\", \"Ca\",\n",
    "                            \"Sc\", \"Ti\", \"V\", \"Cr\", \"Mn\", \"Fe\", \"Co\", \"Ni\", \"Cu\", \"Zn\", \"Ga\", \"Ge\", \"As\", \"Se\", \"Br\", \"Kr\", \"Rb\", \"Sr\",\"Y\",\n",
    "                            \"Zr\",\"Nb\",\"Mo\",\"Tc\",\"Ru\",\"Rh\",\"Pd\",\"Ag\",\"Cd\",\"In\",\"Sn\",\"Sb\",\"Te\",\"I\",\"Xe\",\"Cs\",\"Ba\",\"La\",\"Ce\",\"Pr\",\"Nd\",\"Pm\",\n",
    "                            \"Sm\",\"Eu\",\"Gd\",\"Tb\",\"Dy\",\"Ho\",\"Er\",\"Tm\",\"Yb\",\"Lu\",\"Hf\",\"Ta\",\"W\",\"Re\",\"Os\",\"Ir\",\"Pt\",\"Au\",\"Hg\",\"Tl\",\"Pb\" ,\"Bi\" ,\n",
    "                            \"Po\" ,\"At\" ,\"Rn\" ,\"Fr\" ,\"Ra\" ,\"Ac\" ,\"Th\" ,\"Pa\" ,\"U\" ,\"Np\" ,\"Pu\" ,\"Am\" ,\"Cm\"]\n",
    "\n",
    "assert(len(element_table) == 96)\n",
    "print(\"NOTE: Correct element table length.\")\n",
    "\n",
    "assert(validation_element_table == element_table)\n",
    "print(\"NOTE: Valid table.\")"
   ]
  },
  {
   "cell_type": "code",
   "execution_count": 79,
   "id": "3e98709a",
   "metadata": {},
   "outputs": [
    {
     "name": "stdout",
     "output_type": "stream",
     "text": [
      "torch.Size([16708, 96])\n",
      "torch.Size([7589, 96])\n",
      "torch.Size([1440, 96])\n",
      "torch.Size([7679, 96])\n",
      "Train Data Size: 16708 | Test Data Size: 0\n",
      "Train Data Size: 7589 | Test Data Size: 0\n",
      "Train Data Size: 1440 | Test Data Size: 0\n",
      "Train Data Size: 7679 | Test Data Size: 0\n"
     ]
    }
   ],
   "source": [
    "torch_diffusion_data_raw_unconditional_train, *disregard_other_values = prepare_datasets_for_classes(SUPERCON_DATA_FILE, element_table, 0, return_test_sets = False)"
   ]
  },
  {
   "cell_type": "code",
   "execution_count": 82,
   "id": "c55a7cfa",
   "metadata": {},
   "outputs": [],
   "source": [
    "bigt = torch.tensor([999]).to(device)\n",
    "listofvalues = []\n",
    "for i in range(torch_diffusion_data_raw_unconditional_train.size(0)):\n",
    "    xbigt, _ = diffusion_model.forward(torch_diffusion_data_raw_unconditional_train[i].unsqueeze(0), bigt, device)\n",
    "    listofvalues.extend(xbigt.squeeze().tolist())"
   ]
  },
  {
   "cell_type": "code",
   "execution_count": 83,
   "id": "db5424d5",
   "metadata": {},
   "outputs": [
    {
     "name": "stdout",
     "output_type": "stream",
     "text": [
      "1603968\n"
     ]
    }
   ],
   "source": [
    "print(len(listofvalues))"
   ]
  },
  {
   "cell_type": "code",
   "execution_count": 84,
   "id": "f959aab0",
   "metadata": {},
   "outputs": [
    {
     "data": {
      "image/png": "[encoded data removed]",
      "text/plain": [
       "<Figure size 640x480 with 1 Axes>"
      ]
     },
     "metadata": {},
     "output_type": "display_data"
    }
   ],
   "source": [
    "plt.hist(listofvalues)\n",
    "plt.show()"
   ]
  },
  {
   "cell_type": "code",
   "execution_count": 85,
   "id": "b9699136",
   "metadata": {},
   "outputs": [],
   "source": [
    "import matplotlib.pyplot as plt\n",
    "import seaborn as sns\n",
    "from scipy.stats import norm"
   ]
  },
  {
   "cell_type": "code",
   "execution_count": 88,
   "id": "2f63ae57",
   "metadata": {},
   "outputs": [
    {
     "data": {
      "image/png": "[encoded data removed]",
      "text/plain": [
       "<Figure size 640x480 with 1 Axes>"
      ]
     },
     "metadata": {},
     "output_type": "display_data"
    },
    {
     "name": "stdout",
     "output_type": "stream",
     "text": [
      "Mu: 0.0004909436425543296\n",
      "Sigma: 1.0001369570007244\n"
     ]
    }
   ],
   "source": [
    "mu, sigma = norm.fit(listofvalues)\n",
    "plt.axvline(x=mu, color='red', linestyle='--', linewidth=1)\n",
    "\n",
    "plt.hist(listofvalues, color = \"lightsteelblue\", density = True, bins = 10)\n",
    "\n",
    "sns.kdeplot(data=listofvalues)\n",
    "\n",
    "plt.xlabel('Val')\n",
    "plt.ylabel('Relative Fraction')\n",
    "plt.legend([\"Mu\"])\n",
    "\n",
    "plt.title('Value distribution of xT')\n",
    "plt.show()\n",
    "print(f\"Mu: {mu}\")\n",
    "print(f\"Sigma: {sigma}\")"
   ]
  },
  {
   "cell_type": "code",
   "execution_count": null,
   "id": "8cf878b4",
   "metadata": {},
   "outputs": [],
   "source": []
  },
  {
   "cell_type": "code",
   "execution_count": null,
   "id": "ea4d93fb",
   "metadata": {},
   "outputs": [],
   "source": []
  },
  {
   "cell_type": "code",
   "execution_count": null,
   "id": "0ebc797f",
   "metadata": {},
   "outputs": [],
   "source": []
  },
  {
   "cell_type": "code",
   "execution_count": null,
   "id": "4af81328",
   "metadata": {},
   "outputs": [],
   "source": []
  },
  {
   "cell_type": "code",
   "execution_count": 27,
   "id": "4da49f8e",
   "metadata": {},
   "outputs": [],
   "source": [
    "intermediatet = torch.tensor([667]).to(device)"
   ]
  },
  {
   "cell_type": "code",
   "execution_count": 28,
   "id": "a65a33c0",
   "metadata": {},
   "outputs": [],
   "source": [
    "xintermediatet, _ = diffusion_model.forward(x0trial, intermediatet, device)"
   ]
  },
  {
   "cell_type": "code",
   "execution_count": 29,
   "id": "928af503",
   "metadata": {},
   "outputs": [
    {
     "name": "stdout",
     "output_type": "stream",
     "text": [
      "tensor([[ 0.2295,  0.4921, -0.2467,  0.8403, -0.2483, -0.0892,  0.8169,  3.2732,\n",
      "          0.3203,  0.5313, -1.0475,  0.9442,  0.3373,  0.7589,  0.2496, -0.4357,\n",
      "         -1.1500, -0.5599, -1.2658,  0.3017,  0.6887,  0.3635, -1.2610, -0.4737,\n",
      "         -0.7485,  0.4118,  0.3776,  0.7846,  1.5407, -0.0846,  0.3919, -0.0435,\n",
      "         -0.9161, -0.9294, -2.6210,  0.0368, -1.2990, -0.5140, -1.3533, -0.1526,\n",
      "          0.3379,  0.0360,  0.0592, -1.2289,  1.1570,  0.1345, -1.1576, -1.4543,\n",
      "          0.4806,  0.2530, -0.4849,  0.4806,  0.1378,  1.9299,  0.5262,  1.9898,\n",
      "         -0.3968, -1.2877, -0.3406,  1.5868,  0.3089, -0.9812,  0.4169, -0.3721,\n",
      "         -1.3155, -0.5441,  0.2532, -0.1863,  1.5306,  0.2089, -1.0084, -0.5130,\n",
      "         -1.9322, -1.6606, -0.2535, -0.4224, -0.3537, -1.3085,  0.5764, -0.3640,\n",
      "         -0.5732, -0.4380, -0.1553,  0.1659,  0.2068,  1.9610, -0.8771,  1.7238,\n",
      "         -0.7496,  0.8512,  0.0420,  0.3814, -0.7365, -1.3661,  0.6905,  0.9735]],\n",
      "       device='cuda:0', dtype=torch.float64)\n"
     ]
    }
   ],
   "source": [
    "print(xintermediatet)"
   ]
  },
  {
   "cell_type": "code",
   "execution_count": null,
   "id": "2d7abfb8",
   "metadata": {},
   "outputs": [],
   "source": []
  },
  {
   "cell_type": "code",
   "execution_count": 30,
   "id": "49f9065f",
   "metadata": {},
   "outputs": [],
   "source": [
    "smallert = torch.tensor([100]).to(device)"
   ]
  },
  {
   "cell_type": "code",
   "execution_count": 31,
   "id": "e66e054a",
   "metadata": {},
   "outputs": [],
   "source": [
    "xsmallert, _ = diffusion_model.forward(x0trial, smallert, device)"
   ]
  },
  {
   "cell_type": "code",
   "execution_count": 32,
   "id": "6108308b",
   "metadata": {},
   "outputs": [
    {
     "name": "stdout",
     "output_type": "stream",
     "text": [
      "tensor([[-1.3279e-01,  1.8236e-01,  8.2270e-02,  2.9892e-04,  1.4131e-01,\n",
      "         -3.5992e-01,  2.0062e-01,  8.3585e+00,  1.0469e-01, -6.2408e-02,\n",
      "         -1.4812e-01, -4.8766e-01, -4.0189e-02, -1.6088e-02,  1.1834e-01,\n",
      "         -6.7225e-02, -1.4996e-01, -1.1107e-01, -1.2302e-01,  2.3464e+00,\n",
      "          1.1767e-02, -3.1509e-01,  1.3069e-01,  2.5646e-01,  2.3721e-01,\n",
      "          6.9618e-02,  1.2659e-02, -2.7672e-01,  3.0216e+00, -1.0819e-01,\n",
      "          1.8801e-01, -3.1065e-01, -1.5964e-01, -2.4209e-01, -1.6938e-01,\n",
      "         -1.1964e-01, -6.5436e-02, -1.6431e-01,  1.2185e-01,  2.6937e-01,\n",
      "          1.3071e-01, -7.3152e-02,  9.2303e-02, -1.2641e-01, -7.4230e-02,\n",
      "         -7.1363e-02, -6.4017e-02, -1.7602e-02, -1.5116e-01,  7.9638e-02,\n",
      "         -3.3608e-01,  1.1344e-01,  2.4771e-01, -4.2192e-03, -1.1012e-01,\n",
      "          1.6879e+00, -3.2112e-01,  9.7580e-02, -1.5230e-01,  7.7595e-02,\n",
      "          1.7634e-02,  1.3514e-01, -1.1500e-01,  4.0661e-01, -7.9299e-02,\n",
      "          2.3037e-01, -5.6328e-02,  3.9233e-02, -6.1732e-02,  7.9667e-02,\n",
      "          1.8951e-01,  1.0981e-01, -5.3146e-02, -4.8185e-02, -2.2850e-01,\n",
      "         -1.8138e-01, -1.4108e-01,  5.8656e-02, -8.3127e-03,  8.3626e-01,\n",
      "         -1.1313e-01,  2.5198e-01,  1.5642e-01,  6.5306e-02, -2.1877e-01,\n",
      "         -1.7764e-01, -3.6022e-01,  1.4187e-01,  2.6127e-01,  9.4895e-02,\n",
      "          1.7343e-01,  2.3665e-01, -2.3049e-01,  1.3238e-01, -8.3873e-02,\n",
      "          5.1556e-02]], device='cuda:0', dtype=torch.float64)\n"
     ]
    }
   ],
   "source": [
    "print(xsmallert)"
   ]
  },
  {
   "cell_type": "code",
   "execution_count": 51,
   "id": "453a7808",
   "metadata": {},
   "outputs": [],
   "source": [
    "def process_tensor_for_image(x0, upscale_factor = 20):\n",
    "    x0 = torch.round(x0, decimals = 2)\n",
    "    mask = x0 > 0\n",
    "    positive_x0 = torch.zeros_like(x0)\n",
    "    positive_x0[mask] = x0[mask]\n",
    "    x0 = torch.abs(x0)\n",
    "    \n",
    "    x0_resized = torch.reshape(x0, (16, 6))\n",
    "    positive_x0_resized = torch.reshape(positive_x0, (16, 6))\n",
    "    \n",
    "    # upscale_factor = 20 # is a\n",
    "    \n",
    "    # 1 x 1 -> a x a\n",
    "    x0_upscaled = x0_resized.repeat_interleave(upscale_factor, dim=0).repeat_interleave(upscale_factor, dim=1)\n",
    "    positive_x0_upscaled = positive_x0_resized.repeat_interleave(upscale_factor, dim=0).repeat_interleave(upscale_factor, dim=1)\n",
    "    \n",
    "    x0_R = x0_upscaled\n",
    "    x0_G = positive_x0_upscaled\n",
    "    x0_B = positive_x0_upscaled\n",
    "    \n",
    "    image_tensor = torch.stack((x0_R, x0_G, x0_B), dim=0)\n",
    "    \n",
    "    return image_tensor"
   ]
  },
  {
   "cell_type": "code",
   "execution_count": 52,
   "id": "d0283373",
   "metadata": {},
   "outputs": [
    {
     "data": {
      "text/html": [
       "<pre style=\"white-space:pre;overflow-x:auto;line-height:normal;font-family:Menlo,'DejaVu Sans Mono',consolas,'Courier New',monospace\"><span style=\"color: #800000; text-decoration-color: #800000\">╭─────────────────────────────── </span><span style=\"color: #800000; text-decoration-color: #800000; font-weight: bold\">Traceback </span><span style=\"color: #bf7f7f; text-decoration-color: #bf7f7f; font-weight: bold\">(most recent call last)</span><span style=\"color: #800000; text-decoration-color: #800000\"> ────────────────────────────────╮</span>\n",
       "<span style=\"color: #800000; text-decoration-color: #800000\">│</span> in <span style=\"color: #00ff00; text-decoration-color: #00ff00\">&lt;module&gt;</span>:<span style=\"color: #0000ff; text-decoration-color: #0000ff\">1</span>                                                                                    <span style=\"color: #800000; text-decoration-color: #800000\">│</span>\n",
       "<span style=\"color: #800000; text-decoration-color: #800000\">│</span>                                                                                                  <span style=\"color: #800000; text-decoration-color: #800000\">│</span>\n",
       "<span style=\"color: #800000; text-decoration-color: #800000\">│</span> <span style=\"color: #800000; text-decoration-color: #800000\">❱ </span>1 xsmallert_image = process_tensor_for_image(xsmallert)                                        <span style=\"color: #800000; text-decoration-color: #800000\">│</span>\n",
       "<span style=\"color: #800000; text-decoration-color: #800000\">│</span>   <span style=\"color: #7f7f7f; text-decoration-color: #7f7f7f\">2 </span>                                                                                             <span style=\"color: #800000; text-decoration-color: #800000\">│</span>\n",
       "<span style=\"color: #800000; text-decoration-color: #800000\">╰──────────────────────────────────────────────────────────────────────────────────────────────────╯</span>\n",
       "<span style=\"color: #ff0000; text-decoration-color: #ff0000; font-weight: bold\">NameError: </span>name <span style=\"color: #008000; text-decoration-color: #008000\">'xsmallert'</span> is not defined\n",
       "</pre>\n"
      ],
      "text/plain": [
       "\u001b[31m╭─\u001b[0m\u001b[31m──────────────────────────────\u001b[0m\u001b[31m \u001b[0m\u001b[1;31mTraceback \u001b[0m\u001b[1;2;31m(most recent call last)\u001b[0m\u001b[31m \u001b[0m\u001b[31m───────────────────────────────\u001b[0m\u001b[31m─╮\u001b[0m\n",
       "\u001b[31m│\u001b[0m in \u001b[92m<module>\u001b[0m:\u001b[94m1\u001b[0m                                                                                    \u001b[31m│\u001b[0m\n",
       "\u001b[31m│\u001b[0m                                                                                                  \u001b[31m│\u001b[0m\n",
       "\u001b[31m│\u001b[0m \u001b[31m❱ \u001b[0m1 xsmallert_image = process_tensor_for_image(xsmallert)                                        \u001b[31m│\u001b[0m\n",
       "\u001b[31m│\u001b[0m   \u001b[2m2 \u001b[0m                                                                                             \u001b[31m│\u001b[0m\n",
       "\u001b[31m╰──────────────────────────────────────────────────────────────────────────────────────────────────╯\u001b[0m\n",
       "\u001b[1;91mNameError: \u001b[0mname \u001b[32m'xsmallert'\u001b[0m is not defined\n"
      ]
     },
     "metadata": {},
     "output_type": "display_data"
    }
   ],
   "source": [
    "xsmallert_image = process_tensor_for_image(xsmallert)"
   ]
  },
  {
   "cell_type": "code",
   "execution_count": 53,
   "id": "76cb5f93",
   "metadata": {},
   "outputs": [],
   "source": [
    "def PIL_image_creation(image_tensor):\n",
    "    transform = T.ToPILImage()\n",
    "    x0newimage = transform(image_tensor)\n",
    "    return x0newimage"
   ]
  },
  {
   "cell_type": "code",
   "execution_count": 54,
   "id": "1e6c89f1",
   "metadata": {},
   "outputs": [
    {
     "data": {
      "text/html": [
       "<pre style=\"white-space:pre;overflow-x:auto;line-height:normal;font-family:Menlo,'DejaVu Sans Mono',consolas,'Courier New',monospace\"><span style=\"color: #800000; text-decoration-color: #800000\">╭─────────────────────────────── </span><span style=\"color: #800000; text-decoration-color: #800000; font-weight: bold\">Traceback </span><span style=\"color: #bf7f7f; text-decoration-color: #bf7f7f; font-weight: bold\">(most recent call last)</span><span style=\"color: #800000; text-decoration-color: #800000\"> ────────────────────────────────╮</span>\n",
       "<span style=\"color: #800000; text-decoration-color: #800000\">│</span> in <span style=\"color: #00ff00; text-decoration-color: #00ff00\">&lt;module&gt;</span>:<span style=\"color: #0000ff; text-decoration-color: #0000ff\">1</span>                                                                                    <span style=\"color: #800000; text-decoration-color: #800000\">│</span>\n",
       "<span style=\"color: #800000; text-decoration-color: #800000\">│</span>                                                                                                  <span style=\"color: #800000; text-decoration-color: #800000\">│</span>\n",
       "<span style=\"color: #800000; text-decoration-color: #800000\">│</span> <span style=\"color: #800000; text-decoration-color: #800000\">❱ </span>1 PIL_image_creation(xsmallert_image).show()                                                   <span style=\"color: #800000; text-decoration-color: #800000\">│</span>\n",
       "<span style=\"color: #800000; text-decoration-color: #800000\">│</span>   <span style=\"color: #7f7f7f; text-decoration-color: #7f7f7f\">2 </span>                                                                                             <span style=\"color: #800000; text-decoration-color: #800000\">│</span>\n",
       "<span style=\"color: #800000; text-decoration-color: #800000\">╰──────────────────────────────────────────────────────────────────────────────────────────────────╯</span>\n",
       "<span style=\"color: #ff0000; text-decoration-color: #ff0000; font-weight: bold\">NameError: </span>name <span style=\"color: #008000; text-decoration-color: #008000\">'xsmallert_image'</span> is not defined\n",
       "</pre>\n"
      ],
      "text/plain": [
       "\u001b[31m╭─\u001b[0m\u001b[31m──────────────────────────────\u001b[0m\u001b[31m \u001b[0m\u001b[1;31mTraceback \u001b[0m\u001b[1;2;31m(most recent call last)\u001b[0m\u001b[31m \u001b[0m\u001b[31m───────────────────────────────\u001b[0m\u001b[31m─╮\u001b[0m\n",
       "\u001b[31m│\u001b[0m in \u001b[92m<module>\u001b[0m:\u001b[94m1\u001b[0m                                                                                    \u001b[31m│\u001b[0m\n",
       "\u001b[31m│\u001b[0m                                                                                                  \u001b[31m│\u001b[0m\n",
       "\u001b[31m│\u001b[0m \u001b[31m❱ \u001b[0m1 PIL_image_creation(xsmallert_image).show()                                                   \u001b[31m│\u001b[0m\n",
       "\u001b[31m│\u001b[0m   \u001b[2m2 \u001b[0m                                                                                             \u001b[31m│\u001b[0m\n",
       "\u001b[31m╰──────────────────────────────────────────────────────────────────────────────────────────────────╯\u001b[0m\n",
       "\u001b[1;91mNameError: \u001b[0mname \u001b[32m'xsmallert_image'\u001b[0m is not defined\n"
      ]
     },
     "metadata": {},
     "output_type": "display_data"
    }
   ],
   "source": [
    "PIL_image_creation(xsmallert_image).show()"
   ]
  },
  {
   "cell_type": "code",
   "execution_count": null,
   "id": "6d4354e1",
   "metadata": {},
   "outputs": [],
   "source": []
  },
  {
   "cell_type": "code",
   "execution_count": 49,
   "id": "60d9c7cc",
   "metadata": {},
   "outputs": [],
   "source": [
    "# T = 999, 0 = 0, t = ?, t-1 = ?\n",
    "t_forimage = torch.tensor([999]).to(device)\n",
    "x0_forimage, _ = diffusion_model.forward(x0trial, t_forimage, device)\n",
    "PIL_image_creation(process_tensor_for_image(x0_forimage, 40)).show()\n",
    "# PIL_image_creation(process_tensor_for_image(x0_forimage, 40)).save(\"xTimagediffv2.jpg\")"
   ]
  },
  {
   "cell_type": "code",
   "execution_count": 50,
   "id": "d777e3e6",
   "metadata": {},
   "outputs": [],
   "source": [
    "# t = 0 original x0 image\n",
    "PIL_image_creation(process_tensor_for_image(x0trial, 40)).show()"
   ]
  },
  {
   "cell_type": "code",
   "execution_count": 146,
   "id": "1b32dc5d",
   "metadata": {},
   "outputs": [],
   "source": [
    "PIL_image_creation(process_tensor_for_image(x0trial, 40)).save(\"x0imagediffv2.jpg\")"
   ]
  },
  {
   "cell_type": "code",
   "execution_count": null,
   "id": "24b2cf97",
   "metadata": {},
   "outputs": [],
   "source": []
  },
  {
   "cell_type": "code",
   "execution_count": 166,
   "id": "aa15fda1",
   "metadata": {},
   "outputs": [],
   "source": [
    "# T = 999, 0 = 0, t = ?, t-1 = ?\n",
    "t_forimage = torch.tensor([200]).to(device)\n",
    "x0_forimage, _ = diffusion_model.forward(x0trial, t_forimage, device)\n",
    "PIL_image_creation(process_tensor_for_image(x0_forimage, 40)).show()\n",
    "PIL_image_creation(process_tensor_for_image(x0_forimage, 40)).save(\"xlatertimagediffv2.jpg\")"
   ]
  },
  {
   "cell_type": "code",
   "execution_count": null,
   "id": "1d931739",
   "metadata": {},
   "outputs": [],
   "source": []
  },
  {
   "cell_type": "code",
   "execution_count": 127,
   "id": "43ee9736",
   "metadata": {},
   "outputs": [],
   "source": [
    "def process_tensor_for_image(x0, upscale_factor = 20):\n",
    "    x0 = torch.round(x0, decimals = 2)\n",
    "    mask = x0 > 0\n",
    "    positive_x0 = torch.zeros_like(x0)\n",
    "    positive_x0[mask] = x0[mask]\n",
    "    x0 = torch.abs(x0)\n",
    "    \n",
    "    x0_resized = torch.reshape(x0, (16, 6))\n",
    "    positive_x0_resized = torch.reshape(positive_x0, (16, 6))\n",
    "    \n",
    "    # upscale_factor = 20 # is a\n",
    "    \n",
    "    # 1 x 1 -> a x a\n",
    "    x0_upscaled = x0_resized.repeat_interleave(upscale_factor, dim=0).repeat_interleave(upscale_factor, dim=1)\n",
    "    positive_x0_upscaled = positive_x0_resized.repeat_interleave(upscale_factor, dim=0).repeat_interleave(upscale_factor, dim=1)\n",
    "    \n",
    "    x0_R = x0_upscaled\n",
    "    x0_G = positive_x0_upscaled\n",
    "    x0_B = positive_x0_upscaled\n",
    "    \n",
    "    image_tensor = torch.stack((x0_R, x0_G, x0_B), dim=0)\n",
    "    image_tensor = torch.div(image_tensor, 6)\n",
    "    \n",
    "    return image_tensor"
   ]
  },
  {
   "cell_type": "code",
   "execution_count": 104,
   "id": "e2366539",
   "metadata": {},
   "outputs": [],
   "source": [
    "# t = 0 original x0 image\n",
    "PIL_image_creation(process_tensor_for_image(x0trial, 40)).show()"
   ]
  },
  {
   "cell_type": "code",
   "execution_count": null,
   "id": "bb609a90",
   "metadata": {},
   "outputs": [],
   "source": []
  },
  {
   "cell_type": "code",
   "execution_count": 105,
   "id": "b7ff3fc5",
   "metadata": {},
   "outputs": [],
   "source": [
    "PIL_image_creation(process_tensor_for_image(x0trial, 40)).save(\"x0newdiff.jpg\")"
   ]
  },
  {
   "cell_type": "code",
   "execution_count": null,
   "id": "9b90ef87",
   "metadata": {},
   "outputs": [],
   "source": []
  },
  {
   "cell_type": "code",
   "execution_count": 144,
   "id": "c3dd6f92",
   "metadata": {},
   "outputs": [],
   "source": [
    "# T = 999, 0 = 0, t = ?, t-1 = ?\n",
    "t_forimage = torch.tensor([300]).to(device)\n",
    "x0_forimage, _ = diffusion_model.forward(x0trial, t_forimage, device)\n",
    "new_image = PIL_image_creation(process_tensor_for_image(x0_forimage, 40))\n",
    "new_image.show()\n",
    "new_image.save(\"xintilvr2.jpg\")"
   ]
  },
  {
   "cell_type": "code",
   "execution_count": null,
   "id": "a7a10d22",
   "metadata": {},
   "outputs": [],
   "source": []
  }
 ],
 "metadata": {
  "kernelspec": {
   "display_name": "Python 3 (ipykernel)",
   "language": "python",
   "name": "python3"
  },
  "language_info": {
   "codemirror_mode": {
    "name": "ipython",
    "version": 3
   },
   "file_extension": ".py",
   "mimetype": "text/x-python",
   "name": "python",
   "nbconvert_exporter": "python",
   "pygments_lexer": "ipython3",
   "version": "3.11.3"
  }
 },
 "nbformat": 4,
 "nbformat_minor": 5
}
